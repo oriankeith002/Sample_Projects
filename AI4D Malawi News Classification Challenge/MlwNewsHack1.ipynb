{
 "cells": [
  {
   "cell_type": "code",
   "execution_count": null,
   "metadata": {},
   "outputs": [],
   "source": [
    "import pandas as pd\n",
    "import numpy as np\n",
    "import warnings\n",
    "warnings.filterwarnings('ignore')\n",
    "\n",
    "import matplotlib.pyplot as plt\n",
    "\n",
    "from sklearn.feature_extraction.text import CountVectorizer, TfidfVectorizer\n",
    "\n",
    "import re\n",
    "import nltk"
   ]
  },
  {
   "cell_type": "code",
   "execution_count": null,
   "metadata": {},
   "outputs": [],
   "source": [
    "train_path = \" \"\n",
    "test_path = \" \"\n",
    "save_path = \" \""
   ]
  },
  {
   "cell_type": "code",
   "execution_count": null,
   "metadata": {},
   "outputs": [],
   "source": [
    "train_data = pd.read_csv(train_path)\n",
    "test_data = pd.read_csv(test_path)"
   ]
  },
  {
   "cell_type": "code",
   "execution_count": null,
   "metadata": {},
   "outputs": [],
   "source": [
    "print(train_data.shape)\n",
    "print(test_data.shape)"
   ]
  },
  {
   "cell_type": "code",
   "execution_count": null,
   "metadata": {},
   "outputs": [],
   "source": [
    "train_data.head(3)"
   ]
  },
  {
   "cell_type": "code",
   "execution_count": null,
   "metadata": {},
   "outputs": [],
   "source": [
    "train_data.tail(3)"
   ]
  },
  {
   "cell_type": "code",
   "execution_count": 2,
   "metadata": {},
   "outputs": [],
   "source": [
    "\n",
    "def missing_stats(df):\n",
    "    stats = pd.DataFrame(df.isnull().sum()).reset_index()\n",
    "    stats.columns = ['COLUMN NAME','MISSING VALUES']\n",
    "    stats['TOTAL ROWS'] = df.shape[0]\n",
    "    stats['% MISSING'] = round((stats['MISSING VALUES']/stats['TOTAL ROWS'])*100, 2)\n",
    "    return stats"
   ]
  },
  {
   "cell_type": "code",
   "execution_count": null,
   "metadata": {},
   "outputs": [],
   "source": [
    "missing_stats(train_data)"
   ]
  },
  {
   "cell_type": "code",
   "execution_count": null,
   "metadata": {},
   "outputs": [],
   "source": [
    "train_data.Label.value_counts().plot(kind = 'bar')"
   ]
  },
  {
   "cell_type": "code",
   "execution_count": null,
   "metadata": {},
   "outputs": [],
   "source": [
    "nltk.download('stopwords')"
   ]
  },
  {
   "cell_type": "code",
   "execution_count": null,
   "metadata": {},
   "outputs": [],
   "source": [
    "from nltk.corpus import stopwords"
   ]
  },
  {
   "cell_type": "code",
   "execution_count": null,
   "metadata": {},
   "outputs": [],
   "source": [
    "print(stopwords.words('english'))"
   ]
  },
  {
   "cell_type": "code",
   "execution_count": null,
   "metadata": {},
   "outputs": [],
   "source": [
    "chichewa = ['i', 'ine', 'wanga', 'inenso', 'ife', 'athu',\n",
    "            'athu', 'tokha', 'inu', 'ndinu','iwe ukhoza',\n",
    "            'wako','wekha','nokha','iye','wake','iyemwini',\n",
    "            'icho','ndi','zake','lokha','iwo','awo','iwowo',\n",
    "            'chiyani','amene', 'uyu', 'uyo', 'awa', \"ndili\", \n",
    "            'ndi', 'ali','anali','khalani','akhala','kukhala',\n",
    "            ' Khalani nawo','wakhala','anali','chitani',\n",
    "            'amachita','kuchita', 'a', 'an', 'pulogalamu ya',\n",
    "            'ndi', 'koma', 'ngati', 'kapena', 'chifukwa',\n",
    "            'monga', 'mpaka', 'pamene', 'wa', 'pa ',' by',\n",
    "            'chifukwa' 'ndi','pafupi','kutsutsana','pakati',\n",
    "            'kupyola','nthawi', 'nthawi','kale','pambuyo',\n",
    "            'pamwamba', 'pansipa', 'kuti', 'kuchokera',\n",
    "            'mmwamba', 'pansi', 'mu', 'kunja', 'kuyatsa', \n",
    "            'kuchoka', 'kutha', 'kachiwiri', 'kupitilira',\n",
    "            'kenako',' kamodzi','apa','apo','liti','pati',\n",
    "            'bwanji','onse','aliyense','onse','aliyense', \n",
    "            'ochepa', 'zambiri', 'ambiri', 'ena', 'otero', \n",
    "            'ayi', 'kapena', 'osati', 'okha', 'eni', 'omwewo', \n",
    "            'kotero',' kuposa','nawonso',' kwambiri','angathe',\n",
    "            'ndidzatero','basi','musatero', 'musachite',\n",
    "            ' muyenera', 'muyenera kukhala','tsopano', 'sali', \n",
    "            'sindinathe','​​sanachite','satero','analibe', \n",
    "            'sanatero','sanachite','sindinatero','ayi','si', \n",
    "            'ma', 'sizingatheke','mwina','sayenera', 'osowa',\n",
    "            'osafunikira', 'shan' , 'nenani', 'sayenera', 'sanali', \n",
    "            'anapambana', 'sangachite', 'sanakonde', 'sangatero']"
   ]
  },
  {
   "cell_type": "code",
   "execution_count": null,
   "metadata": {},
   "outputs": [],
   "source": [
    "#cleaning texts \n",
    "from nltk.corpus import stopwords\n",
    "from nltk.stem.porter import PorterStemmer\n",
    "from nltk.stem import WordNetLemmatizer\n",
    "\n",
    "wn = WordNetLemmatizer()\n",
    "ps = PorterStemmer()\n",
    "\n",
    "\n",
    "def text_processing(text):\n",
    "    text = re.sub('[^a-zA-Z]',' ',text)\n",
    "    text = text.lower()\n",
    "    text = text.split()\n",
    "    text = [wn.lemmatize(word) for word in text if not word in chichewa]\n",
    "    text = ' '.join(text)\n",
    "    \n",
    "    return text"
   ]
  },
  {
   "cell_type": "code",
   "execution_count": null,
   "metadata": {},
   "outputs": [],
   "source": [
    "nltk.download('wordnet')"
   ]
  },
  {
   "cell_type": "code",
   "execution_count": null,
   "metadata": {},
   "outputs": [],
   "source": [
    "train_data['Text'] = train_data['Text'].apply(text_processing)\n",
    "test_data['Text'] = test_data['Text'].apply(text_processing)"
   ]
  },
  {
   "cell_type": "code",
   "execution_count": null,
   "metadata": {},
   "outputs": [],
   "source": [
    "print(train_data.head())"
   ]
  },
  {
   "cell_type": "code",
   "execution_count": null,
   "metadata": {},
   "outputs": [],
   "source": [
    "print(test_data.head())"
   ]
  },
  {
   "cell_type": "code",
   "execution_count": null,
   "metadata": {},
   "outputs": [],
   "source": [
    "vectorizer = TfidfVectorizer()\n",
    "X = vectorizer.fit_transform(train_data['Text']).toarray()\n",
    "\n",
    "training = pd.DataFrame(X, columns = vectorizer.get_feature_names())\n",
    "\n",
    "print(training.shape)\n",
    "\n",
    "\n",
    "X_test = vectorizer.transform(test_data['Text']).toarray()\n",
    "test_new = pd.DataFrame(X_test, columns = vectorizer.get_feature_names())\n",
    "\n",
    "print(test_new.shape)"
   ]
  },
  {
   "cell_type": "code",
   "execution_count": null,
   "metadata": {},
   "outputs": [],
   "source": [
    "training.head()"
   ]
  },
  {
   "cell_type": "code",
   "execution_count": null,
   "metadata": {},
   "outputs": [],
   "source": [
    "X = training\n",
    "y = train_data['Label'] \n"
   ]
  },
  {
   "cell_type": "code",
   "execution_count": null,
   "metadata": {},
   "outputs": [],
   "source": [
    "from sklearn.model_selection import train_test_split\n",
    "from sklearn.linear_model import SDGClassifier\n"
   ]
  },
  {
   "cell_type": "code",
   "execution_count": null,
   "metadata": {},
   "outputs": [],
   "source": [
    "X_train, X_test, y_train, y_test = train_test_split(X, y, test_size = 0.2, random_state = 0)"
   ]
  },
  {
   "cell_type": "code",
   "execution_count": null,
   "metadata": {},
   "outputs": [],
   "source": [
    "sgd = SDGClassifier(loss = 'hinge',\n",
    "                    penalty = 'l2',\n",
    "                    alpha = 1e-3,\n",
    "                    random_state = 42,\n",
    "                    max_iter = 5, \n",
    "                    tol = None)"
   ]
  },
  {
   "cell_type": "code",
   "execution_count": null,
   "metadata": {},
   "outputs": [],
   "source": [
    "sgd.fit(X_train,y_train)\n"
   ]
  },
  {
   "cell_type": "code",
   "execution_count": null,
   "metadata": {},
   "outputs": [],
   "source": [
    "sgd.score(X_train,y_train)"
   ]
  },
  {
   "cell_type": "code",
   "execution_count": null,
   "metadata": {},
   "outputs": [],
   "source": [
    "sgd_preds = sgd.predict(X_test)\n"
   ]
  },
  {
   "cell_type": "code",
   "execution_count": null,
   "metadata": {},
   "outputs": [],
   "source": [
    "sgd.score(X_test, y_test)"
   ]
  },
  {
   "cell_type": "code",
   "execution_count": null,
   "metadata": {},
   "outputs": [],
   "source": [
    "test_pred = sgd.predict(test_new)"
   ]
  },
  {
   "cell_type": "code",
   "execution_count": null,
   "metadata": {},
   "outputs": [],
   "source": [
    "tags = ['POLITICS','SOCIAL','RELIGION', 'LAW/ORDER','SOCIAL ISSUES',\n",
    "        'HEALTH', 'ECONOMY', 'FARMING', 'SPORTS', 'EDUCATION', \n",
    "        'RELATIONSHIPS', 'WILDLIFE/ENVIRONMENT', 'OPINION/ESSAY', \n",
    "        'LOCALCHIEFS', 'CULTURE', 'WITCHCRAFT',         \n",
    "        'MUSIC','TRANSPORT', 'ARTS AND CRAFTS','FLOODING']     "
   ]
  },
  {
   "cell_type": "code",
   "execution_count": null,
   "metadata": {},
   "outputs": [],
   "source": [
    "from sklearn.metrics import accuracy_score, confusion_matrix\n",
    "from sklearn.metrics import classification_report\n",
    "\n",
    "print(classification_report(y_test, sgd_pred, target_names = tags))"
   ]
  },
  {
   "cell_type": "code",
   "execution_count": null,
   "metadata": {},
   "outputs": [],
   "source": []
  },
  {
   "cell_type": "code",
   "execution_count": null,
   "metadata": {},
   "outputs": [],
   "source": [
    "#preparing submission\n",
    "submission = pd.DataFrame()\n",
    "submission['ID'] = test_data['ID']\n",
    "submission['Label'] = test_pred\n",
    "submission.to_csv(save_path + 'sgd1.csv',index = False)"
   ]
  },
  {
   "cell_type": "code",
   "execution_count": null,
   "metadata": {},
   "outputs": [],
   "source": []
  }
 ],
 "metadata": {
  "kernelspec": {
   "display_name": "Python 3",
   "language": "python",
   "name": "python3"
  },
  "language_info": {
   "codemirror_mode": {
    "name": "ipython",
    "version": 3
   },
   "file_extension": ".py",
   "mimetype": "text/x-python",
   "name": "python",
   "nbconvert_exporter": "python",
   "pygments_lexer": "ipython3",
   "version": "3.9.0"
  }
 },
 "nbformat": 4,
 "nbformat_minor": 4
}
