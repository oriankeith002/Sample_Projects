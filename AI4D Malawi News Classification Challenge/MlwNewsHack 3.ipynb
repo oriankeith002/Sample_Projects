{
 "cells": [
  {
   "cell_type": "code",
   "execution_count": null,
   "metadata": {},
   "outputs": [],
   "source": [
    "import nltk\n",
    "import pandas as pd\n",
    "import string\n",
    "from nltk.tokenize import word_tokenize\n"
   ]
  },
  {
   "cell_type": "code",
   "execution_count": null,
   "metadata": {},
   "outputs": [],
   "source": [
    "data = pd.read_csv(' ')\n",
    "test_dat = pd.read_csv(' ')"
   ]
  },
  {
   "cell_type": "code",
   "execution_count": null,
   "metadata": {},
   "outputs": [],
   "source": []
  },
  {
   "cell_type": "markdown",
   "metadata": {},
   "source": [
    "**Data processing**"
   ]
  },
  {
   "cell_type": "code",
   "execution_count": null,
   "metadata": {},
   "outputs": [],
   "source": [
    "useless_words = ['i', 'ine', 'wanga', 'inenso', 'ife', 'athu',\n",
    "            'athu', 'tokha', 'inu', 'ndinu','iwe ukhoza',\n",
    "            'wako','wekha','nokha','iye','wake','iyemwini',\n",
    "            'icho','ndi','zake','lokha','iwo','awo','iwowo',\n",
    "            'chiyani','amene', 'uyu', 'uyo', 'awa', \"ndili\", \n",
    "            'ndi', 'ali','anali','khalani','akhala','kukhala',\n",
    "            ' Khalani nawo','wakhala','anali','chitani',\n",
    "            'amachita','kuchita', 'a', 'an', 'pulogalamu ya',\n",
    "            'ndi', 'koma', 'ngati', 'kapena', 'chifukwa',\n",
    "            'monga', 'mpaka', 'pamene', 'wa', 'pa ',' by',\n",
    "            'chifukwa' 'ndi','pafupi','kutsutsana','pakati',\n",
    "            'kupyola','nthawi', 'nthawi','kale','pambuyo',\n",
    "            'pamwamba', 'pansipa', 'kuti', 'kuchokera',\n",
    "            'mmwamba', 'pansi', 'mu', 'kunja', 'kuyatsa', \n",
    "            'kuchoka', 'kutha', 'kachiwiri', 'kupitilira',\n",
    "            'kenako',' kamodzi','apa','apo','liti','pati',\n",
    "            'bwanji','onse','aliyense','onse','aliyense', \n",
    "            'ochepa', 'zambiri', 'ambiri', 'ena', 'otero', \n",
    "            'ayi', 'kapena', 'osati', 'okha', 'eni', 'omwewo', \n",
    "            'kotero',' kuposa','nawonso',' kwambiri','angathe',\n",
    "            'ndidzatero','basi','musatero', 'musachite',\n",
    "            ' muyenera', 'muyenera kukhala','tsopano', 'sali', \n",
    "            'sindinathe','​​sanachite','satero','analibe', \n",
    "            'sanatero','sanachite','sindinatero','ayi','si', \n",
    "            'ma', 'sizingatheke','mwina','sayenera', 'osowa',\n",
    "            'osafunikira', 'shan' , 'nenani', 'sayenera', 'sanali', \n",
    "            'anapambana', 'sangachite', 'sanakonde', 'sangatero']"
   ]
  },
  {
   "cell_type": "code",
   "execution_count": null,
   "metadata": {},
   "outputs": [],
   "source": [
    "def tokenize(words):\n",
    "    return word_tokenize(word)\n",
    "\n",
    "def build_bag_of_words(words):\n",
    "    return {word: True for word in word if not in useless_words}"
   ]
  },
  {
   "cell_type": "code",
   "execution_count": null,
   "metadata": {},
   "outputs": [],
   "source": []
  },
  {
   "cell_type": "markdown",
   "metadata": {},
   "source": [
    "**Train the model**"
   ]
  },
  {
   "cell_type": "code",
   "execution_count": null,
   "metadata": {},
   "outputs": [],
   "source": [
    "from nltk.classify import NaiveBayesClassifier\n",
    "classifier  = NaiveBayesClassifier.train[#HUGE LIST OF SPLIT DATA BASING ON CATEGORIES]"
   ]
  },
  {
   "cell_type": "code",
   "execution_count": null,
   "metadata": {},
   "outputs": [],
   "source": [
    "test = []\n",
    "\n",
    "for i in test_data['Text']:\n",
    "    words = tokenize(i)\n",
    "    \n",
    "    \n",
    "    #then use the function we wrote earlier to create a word format nltk expects \n",
    "    test.append(build_bag_of_words(words))\n",
    "    "
   ]
  },
  {
   "cell_type": "code",
   "execution_count": null,
   "metadata": {},
   "outputs": [],
   "source": [
    "prediction = []\n",
    "\n",
    "for i in rnage(0, len(test)):\n",
    "    predictions = classifier.classify(test[i])\n",
    "    prediction.append(predictions)"
   ]
  },
  {
   "cell_type": "code",
   "execution_count": null,
   "metadata": {},
   "outputs": [],
   "source": [
    "predictions = pd.DataFrame(prediction, columns = ['predict'])"
   ]
  },
  {
   "cell_type": "code",
   "execution_count": null,
   "metadata": {},
   "outputs": [],
   "source": [
    "predictions "
   ]
  },
  {
   "cell_type": "code",
   "execution_count": null,
   "metadata": {},
   "outputs": [],
   "source": []
  },
  {
   "cell_type": "code",
   "execution_count": null,
   "metadata": {},
   "outputs": [],
   "source": []
  },
  {
   "cell_type": "code",
   "execution_count": null,
   "metadata": {},
   "outputs": [],
   "source": []
  },
  {
   "cell_type": "code",
   "execution_count": null,
   "metadata": {},
   "outputs": [],
   "source": []
  },
  {
   "cell_type": "code",
   "execution_count": null,
   "metadata": {},
   "outputs": [],
   "source": []
  },
  {
   "cell_type": "code",
   "execution_count": null,
   "metadata": {},
   "outputs": [],
   "source": []
  },
  {
   "cell_type": "code",
   "execution_count": null,
   "metadata": {},
   "outputs": [],
   "source": []
  },
  {
   "cell_type": "code",
   "execution_count": null,
   "metadata": {},
   "outputs": [],
   "source": []
  },
  {
   "cell_type": "code",
   "execution_count": null,
   "metadata": {},
   "outputs": [],
   "source": []
  },
  {
   "cell_type": "code",
   "execution_count": null,
   "metadata": {},
   "outputs": [],
   "source": []
  },
  {
   "cell_type": "code",
   "execution_count": null,
   "metadata": {},
   "outputs": [],
   "source": []
  },
  {
   "cell_type": "code",
   "execution_count": null,
   "metadata": {},
   "outputs": [],
   "source": []
  },
  {
   "cell_type": "code",
   "execution_count": null,
   "metadata": {},
   "outputs": [],
   "source": []
  },
  {
   "cell_type": "code",
   "execution_count": null,
   "metadata": {},
   "outputs": [],
   "source": []
  }
 ],
 "metadata": {
  "kernelspec": {
   "display_name": "Python 3",
   "language": "python",
   "name": "python3"
  },
  "language_info": {
   "codemirror_mode": {
    "name": "ipython",
    "version": 3
   },
   "file_extension": ".py",
   "mimetype": "text/x-python",
   "name": "python",
   "nbconvert_exporter": "python",
   "pygments_lexer": "ipython3",
   "version": "3.9.0"
  }
 },
 "nbformat": 4,
 "nbformat_minor": 4
}
